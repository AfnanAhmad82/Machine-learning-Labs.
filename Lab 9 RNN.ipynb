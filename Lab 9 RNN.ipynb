{
 "cells": [
  {
   "cell_type": "code",
   "execution_count": 13,
   "metadata": {},
   "outputs": [],
   "source": [
    "import os\n",
    "os.chdir(r'D:\\University Data\\8 semester\\Lab Machine learning')"
   ]
  },
  {
   "cell_type": "code",
   "execution_count": 14,
   "metadata": {},
   "outputs": [],
   "source": [
    "from sklearn.metrics import mean_squared_error, mean_absolute_error, explained_variance_score, r2_score\n",
    "from timeseires.utils.to_split import to_split\n",
    "from timeseires.utils.multivariate_multi_step import multivariate_multi_step\n",
    "from timeseires.utils.multivariate_single_step import multivariate_single_step\n",
    "from timeseires.utils.univariate_multi_step import univariate_multi_step\n",
    "from timeseires.utils.univariate_single_step import univariate_single_step\n",
    "from timeseires.utils.CosineAnnealingLRS import CosineAnnealingLRS\n",
    "from timeseires.callbacks.EpochCheckpoint import EpochCheckpoint\n",
    "from tensorflow.keras.callbacks import ModelCheckpoint\n",
    "#from timeseires.callbacks.TrainingMonitor import TrainingMonitor\n",
    "from tensorflow.keras.optimizers import Adam\n",
    "from tensorflow.keras.optimizers import SGD\n",
    "from tensorflow.keras.models import load_model\n",
    "from tensorflow.keras.layers import LSTM, Bidirectional, Add\n",
    "from tensorflow.keras.layers import BatchNormalization\n",
    "from tensorflow.keras.layers import Conv1D,TimeDistributed\n",
    "from tensorflow.keras.layers import Dense, Dropout, Activation, Flatten,MaxPooling1D,Concatenate,AveragePooling1D, GlobalMaxPooling1D, Input, SimpleRNN\n",
    "from tensorflow.keras.models import Sequential,Model\n",
    "import pandas as pd\n",
    "import time, pickle\n",
    "import numpy as np\n",
    "import tensorflow.keras.backend as K\n",
    "import tensorflow\n",
    "from tensorflow.keras.layers import Input, Reshape, Lambda\n",
    "from tensorflow.keras.layers import Layer, Flatten, LeakyReLU, concatenate, Dense\n",
    "from tensorflow.keras.regularizers import l2\n",
    "import glob\n",
    "import h5py\n",
    "import matplotlib.pyplot as plt\n",
    "from keras.callbacks import Callback"
   ]
  },
  {
   "cell_type": "code",
   "execution_count": 15,
   "metadata": {},
   "outputs": [],
   "source": [
    "#lookback = 24\n",
    "model = None\n",
    "start_epoch = 0\n",
    "time_steps=24\n",
    "num_features=21"
   ]
  },
  {
   "cell_type": "code",
   "execution_count": 16,
   "metadata": {},
   "outputs": [],
   "source": [
    "def create_rnn():\n",
    "    input_data = Input(shape=(time_steps, num_features))\n",
    "    rnn_layer1 = SimpleRNN(8, return_sequences=True)(input_data)\n",
    "    rnn_layer2 = SimpleRNN(20)(rnn_layer1)\n",
    "    x = Flatten()(rnn_layer2)\n",
    "    output_data = Dense(1)(x)\n",
    "    model = Model(input_data, output_data)\n",
    "    return model"
   ]
  },
  {
   "cell_type": "code",
   "execution_count": 17,
   "metadata": {
    "scrolled": true
   },
   "outputs": [
    {
     "name": "stdout",
     "output_type": "stream",
     "text": [
      "Model: \"model_2\"\n",
      "_________________________________________________________________\n",
      " Layer (type)                Output Shape              Param #   \n",
      "=================================================================\n",
      " input_3 (InputLayer)        [(None, 24, 21)]          0         \n",
      "                                                                 \n",
      " simple_rnn_4 (SimpleRNN)    (None, 24, 8)             240       \n",
      "                                                                 \n",
      " simple_rnn_5 (SimpleRNN)    (None, 20)                580       \n",
      "                                                                 \n",
      " flatten_2 (Flatten)         (None, 20)                0         \n",
      "                                                                 \n",
      " dense_2 (Dense)             (None, 1)                 21        \n",
      "                                                                 \n",
      "=================================================================\n",
      "Total params: 841\n",
      "Trainable params: 841\n",
      "Non-trainable params: 0\n",
      "_________________________________________________________________\n"
     ]
    }
   ],
   "source": [
    "model1 = create_rnn()\n",
    "model1.summary()"
   ]
  },
  {
   "cell_type": "code",
   "execution_count": 29,
   "metadata": {},
   "outputs": [
    {
     "name": "stdout",
     "output_type": "stream",
     "text": [
      "Collecting pydot\n",
      "  Downloading pydot-4.0.0-py3-none-any.whl.metadata (10 kB)\n",
      "Collecting graphviz\n",
      "  Downloading graphviz-0.20.3-py3-none-any.whl.metadata (12 kB)\n",
      "Requirement already satisfied: pyparsing>=3.0.9 in c:\\users\\afnan ahmad\\anaconda3\\envs\\myenv\\lib\\site-packages (from pydot) (3.2.0)\n",
      "Downloading pydot-4.0.0-py3-none-any.whl (37 kB)\n",
      "Downloading graphviz-0.20.3-py3-none-any.whl (47 kB)\n",
      "Installing collected packages: pydot, graphviz\n",
      "\n",
      "   -------------------- ------------------- 1/2 [graphviz]\n",
      "   -------------------- ------------------- 1/2 [graphviz]\n",
      "   ---------------------------------------- 2/2 [graphviz]\n",
      "\n",
      "Successfully installed graphviz-0.20.3 pydot-4.0.0\n"
     ]
    }
   ],
   "source": [
    "!pip install pydot graphviz"
   ]
  },
  {
   "cell_type": "code",
   "execution_count": 18,
   "metadata": {},
   "outputs": [
    {
     "name": "stdout",
     "output_type": "stream",
     "text": [
      "You must install pydot (`pip install pydot`) and install graphviz (see instructions at https://graphviz.gitlab.io/download/) for plot_model to work.\n"
     ]
    }
   ],
   "source": [
    "tensorflow.keras.utils.plot_model(model1 )"
   ]
  },
  {
   "cell_type": "code",
   "execution_count": 19,
   "metadata": {},
   "outputs": [],
   "source": [
    "checkpoints = r'D:\\University Data\\8 semester\\Lab Machine learning\\lab9\\\\E1-cp-{epoch:04d}-loss{val_loss:.2f}.h5'\n",
    "OUTPUT_PATH = r'D:\\University Data\\8 semester\\Lab Machine learning\\lab9'\n",
    "FIG_PATH = os.path.sep.join([OUTPUT_PATH,\"\\history.png\"])\n",
    "JSON_PATH = os.path.sep.join([OUTPUT_PATH,\"\\history.json\"])"
   ]
  },
  {
   "cell_type": "code",
   "execution_count": 21,
   "metadata": {},
   "outputs": [],
   "source": [
    "# construct the callback to save only the *best* model to disk\n",
    "# based on the validation loss\n",
    "EpochCheckpoint1 = ModelCheckpoint(checkpoints,\n",
    "                             monitor=\"val_loss\",\n",
    "                             save_best_only=True, \n",
    "                             verbose=1)\n",
    "#TrainingMonitor1=TrainingMonitor(FIG_PATH, jsonPath=JSON_PATH, startAt=start_epoch)\n",
    "\n",
    "# construct the set of callbacks\n",
    "callbacks = [EpochCheckpoint1,TrainingMonitor1]"
   ]
  },
  {
   "cell_type": "code",
   "execution_count": 22,
   "metadata": {},
   "outputs": [
    {
     "name": "stdout",
     "output_type": "stream",
     "text": [
      "[INFO] compiling model...\n"
     ]
    }
   ],
   "source": [
    "# if there is no specific model checkpoint supplied, then initialize\n",
    "# the network and compile the model\n",
    "if model is None:\n",
    "    print(\"[INFO] compiling model...\")\n",
    "    model =create_rnn()\n",
    "    opt = Adam(1e-3)\n",
    "    model.compile(loss= 'mae', optimizer=opt, metrics=[\"mae\", \"mape\"])\n",
    "# otherwise, load the checkpoint from disk\n",
    "else:\n",
    "    print(\"[INFO] loading {}...\".format(model))\n",
    "    model = load_model(model)\n",
    "\n",
    "    # update the learning rate\n",
    "    print(\"[INFO] old learning rate: {}\".format(K.get_value(model.optimizer.lr)))\n",
    "    K.set_value(model.optimizer.lr, 1e-4)\n",
    "    print(\"[INFO] new learning rate: {}\".format(K.get_value(model.optimizer.lr)))"
   ]
  },
  {
   "cell_type": "code",
   "execution_count": 25,
   "metadata": {},
   "outputs": [
    {
     "name": "stderr",
     "output_type": "stream",
     "text": [
      "C:\\Users\\AFNAN AHMAD\\anaconda3\\envs\\myenv\\lib\\site-packages\\sklearn\\base.py:380: InconsistentVersionWarning: Trying to unpickle estimator MinMaxScaler from version 1.0.2 when using version 1.6.1. This might lead to breaking code or invalid results. Use at your own risk. For more info please refer to:\n",
      "https://scikit-learn.org/stable/model_persistence.html#security-maintainability-limitations\n",
      "  warnings.warn(\n"
     ]
    },
    {
     "data": {
      "text/plain": [
       "((84907, 21), (24259, 21), (12130, 21))"
      ]
     },
     "execution_count": 25,
     "metadata": {},
     "output_type": "execute_result"
    }
   ],
   "source": [
    "import os\n",
    "path_dataset =r'D:\\University Data\\8 semester\\Lab Machine learning'\n",
    "path_tr = os.path.join(path_dataset, 'AEP_train.csv')\n",
    "df_tr = pd.read_csv(path_tr)\n",
    "train_set = df_tr.iloc[:].values\n",
    "path_v = os.path.join(path_dataset, 'AEP_validation.csv')\n",
    "df_v = pd.read_csv(path_v)\n",
    "validation_set = df_v.iloc[:].values \n",
    "path_te = os.path.join(path_dataset, 'AEP_test.csv')\n",
    "df_te = pd.read_csv(path_te)\n",
    "test_set = df_te.iloc[:].values \n",
    "\n",
    "path_scaler = os.path.join(path_dataset, 'AEP_Scaler.pkl')\n",
    "scaler         = pickle.load(open(path_scaler, 'rb'))\n",
    "\n",
    "train_set.shape, validation_set.shape, test_set.shape"
   ]
  },
  {
   "cell_type": "code",
   "execution_count": 26,
   "metadata": {},
   "outputs": [],
   "source": [
    "time_steps=24\n",
    "num_features=21"
   ]
  },
  {
   "cell_type": "code",
   "execution_count": 27,
   "metadata": {},
   "outputs": [
    {
     "name": "stdout",
     "output_type": "stream",
     "text": [
      "Time Consumed 1.3180041313171387 sec\n"
     ]
    }
   ],
   "source": [
    "start = time.time()\n",
    "train_X , train_y = univariate_multi_step(train_set, time_steps, target_col=0,target_len=1)\n",
    "validation_X, validation_y = univariate_multi_step(validation_set, time_steps, target_col=0,target_len=1)\n",
    "test_X, test_y = univariate_multi_step(test_set, time_steps, target_col=0,target_len=1)\n",
    "print('Time Consumed', time.time()-start, \"sec\")"
   ]
  },
  {
   "cell_type": "code",
   "execution_count": 28,
   "metadata": {},
   "outputs": [
    {
     "name": "stdout",
     "output_type": "stream",
     "text": [
      "Epoch 1/60\n",
      "2652/2653 [============================>.] - ETA: 0s - loss: 0.0362 - mae: 0.0362 - mape: 261.4577     \n",
      "Epoch 1: val_loss improved from inf to 0.01257, saving model to D:\\University Data\\8 semester\\Lab Machine learning\\lab9\\E1-cp-0001-loss0.01.h5\n",
      "2653/2653 [==============================] - 67s 23ms/step - loss: 0.0362 - mae: 0.0362 - mape: 261.4031 - val_loss: 0.0126 - val_mae: 0.0126 - val_mape: 6.0479\n",
      "Epoch 2/60\n",
      "2651/2653 [============================>.] - ETA: 0s - loss: 0.0145 - mae: 0.0145 - mape: 360.6996  \n",
      "Epoch 2: val_loss improved from 0.01257 to 0.01171, saving model to D:\\University Data\\8 semester\\Lab Machine learning\\lab9\\E1-cp-0002-loss0.01.h5\n",
      "2653/2653 [==============================] - 61s 23ms/step - loss: 0.0145 - mae: 0.0145 - mape: 360.4897 - val_loss: 0.0117 - val_mae: 0.0117 - val_mape: 5.5967\n",
      "Epoch 3/60\n",
      "2651/2653 [============================>.] - ETA: 0s - loss: 0.0132 - mae: 0.0132 - mape: 271.5416  \n",
      "Epoch 3: val_loss improved from 0.01171 to 0.01121, saving model to D:\\University Data\\8 semester\\Lab Machine learning\\lab9\\E1-cp-0003-loss0.01.h5\n",
      "2653/2653 [==============================] - 60s 23ms/step - loss: 0.0132 - mae: 0.0132 - mape: 271.3840 - val_loss: 0.0112 - val_mae: 0.0112 - val_mape: 5.1054\n",
      "Epoch 4/60\n",
      "2653/2653 [==============================] - ETA: 0s - loss: 0.0128 - mae: 0.0128 - mape: 303.0921 \n",
      "Epoch 4: val_loss improved from 0.01121 to 0.01077, saving model to D:\\University Data\\8 semester\\Lab Machine learning\\lab9\\E1-cp-0004-loss0.01.h5\n",
      "2653/2653 [==============================] - 62s 23ms/step - loss: 0.0128 - mae: 0.0128 - mape: 303.0921 - val_loss: 0.0108 - val_mae: 0.0108 - val_mape: 4.8698\n",
      "Epoch 5/60\n",
      "2652/2653 [============================>.] - ETA: 0s - loss: 0.0120 - mae: 0.0120 - mape: 60.1411  \n",
      "Epoch 5: val_loss did not improve from 0.01077\n",
      "2653/2653 [==============================] - 60s 22ms/step - loss: 0.0120 - mae: 0.0120 - mape: 60.1293 - val_loss: 0.0109 - val_mae: 0.0109 - val_mape: 4.7555\n",
      "Epoch 6/60\n",
      "2653/2653 [==============================] - ETA: 0s - loss: 0.0115 - mae: 0.0115 - mape: 56.8689  \n",
      "Epoch 6: val_loss improved from 0.01077 to 0.01076, saving model to D:\\University Data\\8 semester\\Lab Machine learning\\lab9\\E1-cp-0006-loss0.01.h5\n",
      "2653/2653 [==============================] - 60s 23ms/step - loss: 0.0115 - mae: 0.0115 - mape: 56.8689 - val_loss: 0.0108 - val_mae: 0.0108 - val_mape: 4.3901\n",
      "Epoch 7/60\n",
      "2651/2653 [============================>.] - ETA: 0s - loss: 0.0110 - mae: 0.0110 - mape: 22.7294 \n",
      "Epoch 7: val_loss improved from 0.01076 to 0.01004, saving model to D:\\University Data\\8 semester\\Lab Machine learning\\lab9\\E1-cp-0007-loss0.01.h5\n",
      "2653/2653 [==============================] - 60s 23ms/step - loss: 0.0110 - mae: 0.0110 - mape: 22.7175 - val_loss: 0.0100 - val_mae: 0.0100 - val_mape: 4.1672\n",
      "Epoch 8/60\n",
      "2652/2653 [============================>.] - ETA: 0s - loss: 0.0105 - mae: 0.0105 - mape: 75.6788  \n",
      "Epoch 8: val_loss did not improve from 0.01004\n",
      "2653/2653 [==============================] - 61s 23ms/step - loss: 0.0105 - mae: 0.0105 - mape: 75.6635 - val_loss: 0.0114 - val_mae: 0.0114 - val_mape: 5.0146\n",
      "Epoch 9/60\n",
      "2652/2653 [============================>.] - ETA: 0s - loss: 0.0104 - mae: 0.0104 - mape: 45.2170 \n",
      "Epoch 9: val_loss improved from 0.01004 to 0.00918, saving model to D:\\University Data\\8 semester\\Lab Machine learning\\lab9\\E1-cp-0009-loss0.01.h5\n",
      "2653/2653 [==============================] - 59s 22ms/step - loss: 0.0104 - mae: 0.0104 - mape: 45.2081 - val_loss: 0.0092 - val_mae: 0.0092 - val_mape: 4.0853\n",
      "Epoch 10/60\n",
      "2651/2653 [============================>.] - ETA: 0s - loss: 0.0101 - mae: 0.0101 - mape: 20.3236 \n",
      "Epoch 10: val_loss did not improve from 0.00918\n",
      "2653/2653 [==============================] - 64s 24ms/step - loss: 0.0101 - mae: 0.0101 - mape: 20.3131 - val_loss: 0.0109 - val_mae: 0.0109 - val_mape: 5.3901\n",
      "Epoch 11/60\n",
      "2653/2653 [==============================] - ETA: 0s - loss: 0.0099 - mae: 0.0099 - mape: 177.0381\n",
      "Epoch 11: val_loss did not improve from 0.00918\n",
      "2653/2653 [==============================] - 59s 22ms/step - loss: 0.0099 - mae: 0.0099 - mape: 177.0381 - val_loss: 0.0097 - val_mae: 0.0097 - val_mape: 4.3521\n",
      "Epoch 12/60\n",
      "2651/2653 [============================>.] - ETA: 0s - loss: 0.0096 - mae: 0.0096 - mape: 100.0489  \n",
      "Epoch 12: val_loss improved from 0.00918 to 0.00891, saving model to D:\\University Data\\8 semester\\Lab Machine learning\\lab9\\E1-cp-0012-loss0.01.h5\n",
      "2653/2653 [==============================] - 63s 24ms/step - loss: 0.0096 - mae: 0.0096 - mape: 99.9917 - val_loss: 0.0089 - val_mae: 0.0089 - val_mape: 4.0803\n",
      "Epoch 13/60\n",
      "2652/2653 [============================>.] - ETA: 0s - loss: 0.0095 - mae: 0.0095 - mape: 146.5342 \n",
      "Epoch 13: val_loss did not improve from 0.00891\n",
      "2653/2653 [==============================] - 60s 23ms/step - loss: 0.0095 - mae: 0.0095 - mape: 146.5036 - val_loss: 0.0091 - val_mae: 0.0091 - val_mape: 4.0272\n",
      "Epoch 14/60\n",
      "2652/2653 [============================>.] - ETA: 0s - loss: 0.0092 - mae: 0.0092 - mape: 259.2331\n",
      "Epoch 14: val_loss improved from 0.00891 to 0.00862, saving model to D:\\University Data\\8 semester\\Lab Machine learning\\lab9\\E1-cp-0014-loss0.01.h5\n",
      "2653/2653 [==============================] - 60s 23ms/step - loss: 0.0092 - mae: 0.0092 - mape: 259.1785 - val_loss: 0.0086 - val_mae: 0.0086 - val_mape: 3.7356\n",
      "Epoch 15/60\n",
      "2653/2653 [==============================] - ETA: 0s - loss: 0.0091 - mae: 0.0091 - mape: 182.3805 \n",
      "Epoch 15: val_loss did not improve from 0.00862\n",
      "2653/2653 [==============================] - 72s 27ms/step - loss: 0.0091 - mae: 0.0091 - mape: 182.3805 - val_loss: 0.0092 - val_mae: 0.0092 - val_mape: 4.1201\n",
      "Epoch 16/60\n",
      "2653/2653 [==============================] - ETA: 0s - loss: 0.0090 - mae: 0.0090 - mape: 161.2843 \n",
      "Epoch 16: val_loss improved from 0.00862 to 0.00800, saving model to D:\\University Data\\8 semester\\Lab Machine learning\\lab9\\E1-cp-0016-loss0.01.h5\n",
      "2653/2653 [==============================] - 72s 27ms/step - loss: 0.0090 - mae: 0.0090 - mape: 161.2843 - val_loss: 0.0080 - val_mae: 0.0080 - val_mape: 3.5799\n",
      "Epoch 17/60\n",
      "2653/2653 [==============================] - ETA: 0s - loss: 0.0089 - mae: 0.0089 - mape: 278.0997 \n",
      "Epoch 17: val_loss did not improve from 0.00800\n",
      "2653/2653 [==============================] - 75s 28ms/step - loss: 0.0089 - mae: 0.0089 - mape: 278.0997 - val_loss: 0.0098 - val_mae: 0.0098 - val_mape: 4.0886\n",
      "Epoch 18/60\n",
      "2651/2653 [============================>.] - ETA: 0s - loss: 0.0086 - mae: 0.0086 - mape: 236.1109 \n",
      "Epoch 18: val_loss did not improve from 0.00800\n",
      "2653/2653 [==============================] - 76s 29ms/step - loss: 0.0086 - mae: 0.0086 - mape: 235.9735 - val_loss: 0.0094 - val_mae: 0.0094 - val_mape: 4.1326\n",
      "Epoch 19/60\n",
      "2653/2653 [==============================] - ETA: 0s - loss: 0.0086 - mae: 0.0086 - mape: 148.5011 \n",
      "Epoch 19: val_loss did not improve from 0.00800\n",
      "2653/2653 [==============================] - 74s 28ms/step - loss: 0.0086 - mae: 0.0086 - mape: 148.5011 - val_loss: 0.0083 - val_mae: 0.0083 - val_mape: 3.7346\n",
      "Epoch 20/60\n",
      "2651/2653 [============================>.] - ETA: 0s - loss: 0.0086 - mae: 0.0086 - mape: 40.4879  \n",
      "Epoch 20: val_loss did not improve from 0.00800\n",
      "2653/2653 [==============================] - 76s 28ms/step - loss: 0.0086 - mae: 0.0086 - mape: 40.4655 - val_loss: 0.0098 - val_mae: 0.0098 - val_mape: 4.7583\n",
      "Epoch 21/60\n",
      "2651/2653 [============================>.] - ETA: 0s - loss: 0.0085 - mae: 0.0085 - mape: 151.2392 \n",
      "Epoch 21: val_loss did not improve from 0.00800\n",
      "2653/2653 [==============================] - 73s 28ms/step - loss: 0.0085 - mae: 0.0085 - mape: 151.1524 - val_loss: 0.0110 - val_mae: 0.0110 - val_mape: 4.8971\n",
      "Epoch 22/60\n",
      "2653/2653 [==============================] - ETA: 0s - loss: 0.0083 - mae: 0.0083 - mape: 117.1686 \n",
      "Epoch 22: val_loss improved from 0.00800 to 0.00748, saving model to D:\\University Data\\8 semester\\Lab Machine learning\\lab9\\E1-cp-0022-loss0.01.h5\n",
      "2653/2653 [==============================] - 75s 28ms/step - loss: 0.0083 - mae: 0.0083 - mape: 117.1686 - val_loss: 0.0075 - val_mae: 0.0075 - val_mape: 3.4139\n",
      "Epoch 23/60\n",
      "2651/2653 [============================>.] - ETA: 0s - loss: 0.0083 - mae: 0.0083 - mape: 126.0634\n",
      "Epoch 23: val_loss did not improve from 0.00748\n",
      "2653/2653 [==============================] - 75s 28ms/step - loss: 0.0083 - mae: 0.0083 - mape: 125.9903 - val_loss: 0.0086 - val_mae: 0.0086 - val_mape: 4.2580\n",
      "Epoch 24/60\n",
      "2651/2653 [============================>.] - ETA: 0s - loss: 0.0083 - mae: 0.0083 - mape: 143.1840   \n",
      "Epoch 24: val_loss did not improve from 0.00748\n",
      "2653/2653 [==============================] - 75s 28ms/step - loss: 0.0083 - mae: 0.0083 - mape: 143.1012 - val_loss: 0.0078 - val_mae: 0.0078 - val_mape: 3.8405\n",
      "Epoch 25/60\n",
      "2651/2653 [============================>.] - ETA: 0s - loss: 0.0082 - mae: 0.0082 - mape: 94.1988 \n",
      "Epoch 25: val_loss did not improve from 0.00748\n",
      "2653/2653 [==============================] - 75s 28ms/step - loss: 0.0082 - mae: 0.0082 - mape: 94.1446 - val_loss: 0.0103 - val_mae: 0.0103 - val_mape: 4.1907\n",
      "Epoch 26/60\n",
      "2652/2653 [============================>.] - ETA: 0s - loss: 0.0081 - mae: 0.0081 - mape: 55.5551  \n",
      "Epoch 26: val_loss did not improve from 0.00748\n",
      "2653/2653 [==============================] - 76s 29ms/step - loss: 0.0081 - mae: 0.0081 - mape: 55.5437 - val_loss: 0.0076 - val_mae: 0.0076 - val_mape: 3.2667\n",
      "Epoch 27/60\n",
      "2651/2653 [============================>.] - ETA: 0s - loss: 0.0081 - mae: 0.0081 - mape: 165.5705 \n",
      "Epoch 27: val_loss did not improve from 0.00748\n",
      "2653/2653 [==============================] - 74s 28ms/step - loss: 0.0081 - mae: 0.0081 - mape: 165.4750 - val_loss: 0.0084 - val_mae: 0.0084 - val_mape: 3.5482\n",
      "Epoch 28/60\n",
      "2651/2653 [============================>.] - ETA: 0s - loss: 0.0079 - mae: 0.0079 - mape: 175.5342  \n",
      "Epoch 28: val_loss did not improve from 0.00748\n",
      "2653/2653 [==============================] - 74s 28ms/step - loss: 0.0079 - mae: 0.0079 - mape: 175.4322 - val_loss: 0.0076 - val_mae: 0.0076 - val_mape: 3.1918\n",
      "Epoch 29/60\n",
      "2653/2653 [==============================] - ETA: 0s - loss: 0.0080 - mae: 0.0080 - mape: 23.5206 \n",
      "Epoch 29: val_loss did not improve from 0.00748\n",
      "2653/2653 [==============================] - 76s 29ms/step - loss: 0.0080 - mae: 0.0080 - mape: 23.5206 - val_loss: 0.0084 - val_mae: 0.0084 - val_mape: 3.9729\n",
      "Epoch 30/60\n",
      "2653/2653 [==============================] - ETA: 0s - loss: 0.0079 - mae: 0.0079 - mape: 12.7526   \n",
      "Epoch 30: val_loss did not improve from 0.00748\n",
      "2653/2653 [==============================] - 77s 29ms/step - loss: 0.0079 - mae: 0.0079 - mape: 12.7526 - val_loss: 0.0089 - val_mae: 0.0089 - val_mape: 4.8531\n",
      "Epoch 31/60\n",
      "2653/2653 [==============================] - ETA: 0s - loss: 0.0079 - mae: 0.0079 - mape: 45.7416  \n",
      "Epoch 31: val_loss did not improve from 0.00748\n",
      "2653/2653 [==============================] - 76s 29ms/step - loss: 0.0079 - mae: 0.0079 - mape: 45.7416 - val_loss: 0.0075 - val_mae: 0.0075 - val_mape: 3.1457\n",
      "Epoch 32/60\n",
      "2651/2653 [============================>.] - ETA: 0s - loss: 0.0079 - mae: 0.0079 - mape: 63.1108  \n",
      "Epoch 32: val_loss improved from 0.00748 to 0.00695, saving model to D:\\University Data\\8 semester\\Lab Machine learning\\lab9\\E1-cp-0032-loss0.01.h5\n",
      "2653/2653 [==============================] - 77s 29ms/step - loss: 0.0079 - mae: 0.0079 - mape: 63.0748 - val_loss: 0.0070 - val_mae: 0.0070 - val_mape: 2.9676\n",
      "Epoch 33/60\n",
      "2652/2653 [============================>.] - ETA: 0s - loss: 0.0078 - mae: 0.0078 - mape: 5.1674  \n",
      "Epoch 33: val_loss did not improve from 0.00695\n",
      "2653/2653 [==============================] - 76s 28ms/step - loss: 0.0078 - mae: 0.0078 - mape: 5.1667 - val_loss: 0.0076 - val_mae: 0.0076 - val_mape: 3.3401\n",
      "Epoch 34/60\n",
      "2652/2653 [============================>.] - ETA: 0s - loss: 0.0079 - mae: 0.0079 - mape: 54.1147 \n",
      "Epoch 34: val_loss improved from 0.00695 to 0.00693, saving model to D:\\University Data\\8 semester\\Lab Machine learning\\lab9\\E1-cp-0034-loss0.01.h5\n",
      "2653/2653 [==============================] - 76s 29ms/step - loss: 0.0079 - mae: 0.0079 - mape: 54.1040 - val_loss: 0.0069 - val_mae: 0.0069 - val_mape: 3.1093\n",
      "Epoch 35/60\n",
      "2651/2653 [============================>.] - ETA: 0s - loss: 0.0078 - mae: 0.0078 - mape: 66.7828 \n",
      "Epoch 35: val_loss did not improve from 0.00693\n",
      "2653/2653 [==============================] - 76s 29ms/step - loss: 0.0078 - mae: 0.0078 - mape: 66.7448 - val_loss: 0.0072 - val_mae: 0.0072 - val_mape: 3.0853\n",
      "Epoch 36/60\n",
      "2652/2653 [============================>.] - ETA: 0s - loss: 0.0077 - mae: 0.0077 - mape: 40.3719  \n",
      "Epoch 36: val_loss did not improve from 0.00693\n",
      "2653/2653 [==============================] - 79s 30ms/step - loss: 0.0077 - mae: 0.0077 - mape: 40.3640 - val_loss: 0.0073 - val_mae: 0.0073 - val_mape: 3.1339\n",
      "Epoch 37/60\n",
      "2651/2653 [============================>.] - ETA: 0s - loss: 0.0078 - mae: 0.0078 - mape: 8.1907  \n",
      "Epoch 37: val_loss did not improve from 0.00693\n",
      "2653/2653 [==============================] - 81s 31ms/step - loss: 0.0078 - mae: 0.0078 - mape: 8.1876 - val_loss: 0.0072 - val_mae: 0.0072 - val_mape: 3.0951\n",
      "Epoch 38/60\n",
      "2652/2653 [============================>.] - ETA: 0s - loss: 0.0077 - mae: 0.0077 - mape: 58.4845 \n",
      "Epoch 38: val_loss did not improve from 0.00693\n",
      "2653/2653 [==============================] - 77s 29ms/step - loss: 0.0077 - mae: 0.0077 - mape: 58.4727 - val_loss: 0.0080 - val_mae: 0.0080 - val_mape: 3.7375\n",
      "Epoch 39/60\n",
      "2653/2653 [==============================] - ETA: 0s - loss: 0.0077 - mae: 0.0077 - mape: 130.3083\n",
      "Epoch 39: val_loss did not improve from 0.00693\n",
      "2653/2653 [==============================] - 76s 28ms/step - loss: 0.0077 - mae: 0.0077 - mape: 130.3083 - val_loss: 0.0071 - val_mae: 0.0071 - val_mape: 3.0369\n",
      "Epoch 40/60\n",
      "2653/2653 [==============================] - ETA: 0s - loss: 0.0077 - mae: 0.0077 - mape: 138.2738 \n",
      "Epoch 40: val_loss did not improve from 0.00693\n",
      "2653/2653 [==============================] - 75s 28ms/step - loss: 0.0077 - mae: 0.0077 - mape: 138.2738 - val_loss: 0.0071 - val_mae: 0.0071 - val_mape: 3.0750\n",
      "Epoch 41/60\n",
      "2650/2653 [============================>.] - ETA: 0s - loss: 0.0077 - mae: 0.0077 - mape: 50.5984  \n",
      "Epoch 41: val_loss did not improve from 0.00693\n",
      "2653/2653 [==============================] - 45s 17ms/step - loss: 0.0077 - mae: 0.0077 - mape: 50.5521 - val_loss: 0.0072 - val_mae: 0.0072 - val_mape: 3.1823\n",
      "Epoch 42/60\n",
      "2651/2653 [============================>.] - ETA: 0s - loss: 0.0077 - mae: 0.0077 - mape: 7.5056   \n",
      "Epoch 42: val_loss did not improve from 0.00693\n",
      "2653/2653 [==============================] - 38s 14ms/step - loss: 0.0077 - mae: 0.0077 - mape: 7.5030 - val_loss: 0.0087 - val_mae: 0.0087 - val_mape: 4.5178\n",
      "Epoch 43/60\n",
      "2650/2653 [============================>.] - ETA: 0s - loss: 0.0077 - mae: 0.0077 - mape: 50.9075 \n",
      "Epoch 43: val_loss did not improve from 0.00693\n",
      "2653/2653 [==============================] - 41s 15ms/step - loss: 0.0077 - mae: 0.0077 - mape: 50.8602 - val_loss: 0.0073 - val_mae: 0.0073 - val_mape: 3.7502\n",
      "Epoch 44/60\n",
      "2650/2653 [============================>.] - ETA: 0s - loss: 0.0076 - mae: 0.0076 - mape: 13.7150 \n",
      "Epoch 44: val_loss did not improve from 0.00693\n",
      "2653/2653 [==============================] - 40s 15ms/step - loss: 0.0076 - mae: 0.0076 - mape: 13.7040 - val_loss: 0.0074 - val_mae: 0.0074 - val_mape: 3.3122\n",
      "Epoch 45/60\n",
      "2652/2653 [============================>.] - ETA: 0s - loss: 0.0076 - mae: 0.0076 - mape: 83.9509 \n",
      "Epoch 45: val_loss did not improve from 0.00693\n",
      "2653/2653 [==============================] - 40s 15ms/step - loss: 0.0076 - mae: 0.0076 - mape: 83.9335 - val_loss: 0.0071 - val_mae: 0.0071 - val_mape: 3.0742\n",
      "Epoch 46/60\n",
      "2650/2653 [============================>.] - ETA: 0s - loss: 0.0077 - mae: 0.0077 - mape: 77.9568  \n",
      "Epoch 46: val_loss did not improve from 0.00693\n",
      "2653/2653 [==============================] - 40s 15ms/step - loss: 0.0077 - mae: 0.0077 - mape: 77.8833 - val_loss: 0.0080 - val_mae: 0.0080 - val_mape: 3.5507\n",
      "Epoch 47/60\n",
      "2653/2653 [==============================] - ETA: 0s - loss: 0.0076 - mae: 0.0076 - mape: 58.7017   \n",
      "Epoch 47: val_loss did not improve from 0.00693\n",
      "2653/2653 [==============================] - 40s 15ms/step - loss: 0.0076 - mae: 0.0076 - mape: 58.7017 - val_loss: 0.0083 - val_mae: 0.0083 - val_mape: 4.1492\n",
      "Epoch 48/60\n",
      "2652/2653 [============================>.] - ETA: 0s - loss: 0.0076 - mae: 0.0076 - mape: 184.1547\n",
      "Epoch 48: val_loss did not improve from 0.00693\n",
      "2653/2653 [==============================] - 40s 15ms/step - loss: 0.0076 - mae: 0.0076 - mape: 184.1160 - val_loss: 0.0070 - val_mae: 0.0070 - val_mape: 2.9796\n",
      "Epoch 49/60\n",
      "2651/2653 [============================>.] - ETA: 0s - loss: 0.0077 - mae: 0.0077 - mape: 12.8010 \n",
      "Epoch 49: val_loss did not improve from 0.00693\n",
      "2653/2653 [==============================] - 42s 16ms/step - loss: 0.0077 - mae: 0.0077 - mape: 12.7942 - val_loss: 0.0073 - val_mae: 0.0073 - val_mape: 3.2314\n",
      "Epoch 50/60\n",
      "2652/2653 [============================>.] - ETA: 0s - loss: 0.0075 - mae: 0.0075 - mape: 8.5062 \n",
      "Epoch 50: val_loss did not improve from 0.00693\n",
      "2653/2653 [==============================] - 42s 16ms/step - loss: 0.0075 - mae: 0.0075 - mape: 8.5049 - val_loss: 0.0074 - val_mae: 0.0074 - val_mape: 3.3777\n",
      "Epoch 51/60\n",
      "2653/2653 [==============================] - ETA: 0s - loss: 0.0076 - mae: 0.0076 - mape: 5.2116  \n",
      "Epoch 51: val_loss did not improve from 0.00693\n",
      "2653/2653 [==============================] - 41s 15ms/step - loss: 0.0076 - mae: 0.0076 - mape: 5.2116 - val_loss: 0.0072 - val_mae: 0.0072 - val_mape: 3.2589\n",
      "Epoch 52/60\n",
      "2651/2653 [============================>.] - ETA: 0s - loss: 0.0075 - mae: 0.0075 - mape: 55.0108  \n",
      "Epoch 52: val_loss did not improve from 0.00693\n",
      "2653/2653 [==============================] - 47s 18ms/step - loss: 0.0075 - mae: 0.0075 - mape: 54.9797 - val_loss: 0.0079 - val_mae: 0.0079 - val_mape: 3.5988\n",
      "Epoch 53/60\n",
      "2650/2653 [============================>.] - ETA: 0s - loss: 0.0076 - mae: 0.0076 - mape: 188.7052 \n",
      "Epoch 53: val_loss did not improve from 0.00693\n",
      "2653/2653 [==============================] - 41s 15ms/step - loss: 0.0076 - mae: 0.0076 - mape: 188.5255 - val_loss: 0.0091 - val_mae: 0.0091 - val_mape: 4.8882\n",
      "Epoch 54/60\n",
      "2653/2653 [==============================] - ETA: 0s - loss: 0.0075 - mae: 0.0075 - mape: 41.0371  \n",
      "Epoch 54: val_loss did not improve from 0.00693\n",
      "2653/2653 [==============================] - 43s 16ms/step - loss: 0.0075 - mae: 0.0075 - mape: 41.0371 - val_loss: 0.0074 - val_mae: 0.0074 - val_mape: 3.2584\n",
      "Epoch 55/60\n",
      "2652/2653 [============================>.] - ETA: 0s - loss: 0.0075 - mae: 0.0075 - mape: 83.1516  \n",
      "Epoch 55: val_loss did not improve from 0.00693\n",
      "2653/2653 [==============================] - 42s 16ms/step - loss: 0.0075 - mae: 0.0075 - mape: 83.1347 - val_loss: 0.0070 - val_mae: 0.0070 - val_mape: 3.0829\n",
      "Epoch 56/60\n",
      "2651/2653 [============================>.] - ETA: 0s - loss: 0.0075 - mae: 0.0075 - mape: 52.6861  \n",
      "Epoch 56: val_loss improved from 0.00693 to 0.00661, saving model to D:\\University Data\\8 semester\\Lab Machine learning\\lab9\\E1-cp-0056-loss0.01.h5\n",
      "2653/2653 [==============================] - 43s 16ms/step - loss: 0.0075 - mae: 0.0075 - mape: 52.6568 - val_loss: 0.0066 - val_mae: 0.0066 - val_mape: 2.9854\n",
      "Epoch 57/60\n",
      "2651/2653 [============================>.] - ETA: 0s - loss: 0.0076 - mae: 0.0076 - mape: 79.3883  \n",
      "Epoch 57: val_loss did not improve from 0.00661\n",
      "2653/2653 [==============================] - 45s 17ms/step - loss: 0.0076 - mae: 0.0076 - mape: 79.3432 - val_loss: 0.0083 - val_mae: 0.0083 - val_mape: 3.9962\n",
      "Epoch 58/60\n",
      "2653/2653 [==============================] - ETA: 0s - loss: 0.0075 - mae: 0.0075 - mape: 113.7268 \n",
      "Epoch 58: val_loss did not improve from 0.00661\n",
      "2653/2653 [==============================] - 46s 17ms/step - loss: 0.0075 - mae: 0.0075 - mape: 113.7268 - val_loss: 0.0078 - val_mae: 0.0078 - val_mape: 3.5851\n",
      "Epoch 59/60\n",
      "2650/2653 [============================>.] - ETA: 0s - loss: 0.0075 - mae: 0.0075 - mape: 144.6219 \n",
      "Epoch 59: val_loss did not improve from 0.00661\n",
      "2653/2653 [==============================] - 44s 17ms/step - loss: 0.0075 - mae: 0.0075 - mape: 144.4845 - val_loss: 0.0078 - val_mae: 0.0078 - val_mape: 3.5280\n",
      "Epoch 60/60\n",
      "2651/2653 [============================>.] - ETA: 0s - loss: 0.0074 - mae: 0.0074 - mape: 82.0803 \n",
      "Epoch 60: val_loss did not improve from 0.00661\n",
      "2653/2653 [==============================] - 43s 16ms/step - loss: 0.0074 - mae: 0.0074 - mape: 82.0331 - val_loss: 0.0071 - val_mae: 0.0071 - val_mape: 3.1100\n"
     ]
    }
   ],
   "source": [
    "epochs = 60\n",
    "verbose = 1 #0\n",
    "batch_size = 32\n",
    "History = model.fit(train_X,\n",
    "                        train_y,\n",
    "                        batch_size=batch_size,   \n",
    "                        epochs = epochs, \n",
    "                        validation_data = (validation_X,validation_y),\n",
    "                        callbacks=callbacks,verbose = verbose)"
   ]
  },
  {
   "cell_type": "code",
   "execution_count": 32,
   "metadata": {},
   "outputs": [
    {
     "name": "stdout",
     "output_type": "stream",
     "text": [
      "379/379 [==============================] - 3s 5ms/step\n",
      "Mean Absolute Error (MAE): 103.22\n",
      "Median Absolute Error (MedAE): 83.19\n",
      "Mean Squared Error (MSE): 18505.83\n",
      "Root Mean Squared Error (RMSE): 136.04\n",
      "Mean Absolute Percentage Error (MAPE): 0.71 %\n",
      "Median Absolute Percentage Error (MDAPE): 0.58 %\n",
      "\n",
      "\n",
      "y_test_unscaled.shape=  (12105, 1)\n",
      "y_pred.shape=  (12105, 1)\n"
     ]
    }
   ],
   "source": [
    "\n",
    "model = load_model(r'D:\\University Data\\8 semester\\Lab Machine learning\\lab9\\E1-cp-0056-loss0.01.h5')\n",
    "\n",
    "y_pred_scaled   = model.predict(test_X)\n",
    "y_pred          = scaler.inverse_transform(y_pred_scaled)\n",
    "y_test_unscaled = scaler.inverse_transform(test_y)\n",
    "# Mean Absolute Error (MAE)\n",
    "MAE = np.mean(abs(y_pred - y_test_unscaled)) \n",
    "print('Mean Absolute Error (MAE): ' + str(np.round(MAE, 2)))\n",
    "\n",
    "# Median Absolute Error (MedAE)\n",
    "MEDAE = np.median(abs(y_pred - y_test_unscaled))\n",
    "print('Median Absolute Error (MedAE): ' + str(np.round(MEDAE, 2)))\n",
    "\n",
    "# Mean Squared Error (MSE)\n",
    "MSE = np.square(np.subtract(y_pred, y_test_unscaled)).mean()\n",
    "print('Mean Squared Error (MSE): ' + str(np.round(MSE, 2)))\n",
    "\n",
    "# Root Mean Squarred Error (RMSE) \n",
    "RMSE = np.sqrt(np.mean(np.square(y_pred - y_test_unscaled)))\n",
    "print('Root Mean Squared Error (RMSE): ' + str(np.round(RMSE, 2)))\n",
    "\n",
    "# Mean Absolute Percentage Error (MAPE)\n",
    "MAPE = np.mean((np.abs(np.subtract(y_test_unscaled, y_pred)/ y_test_unscaled))) * 100\n",
    "print('Mean Absolute Percentage Error (MAPE): ' + str(np.round(MAPE, 2)) + ' %')\n",
    "\n",
    "# Median Absolute Percentage Error (MDAPE)\n",
    "MDAPE = np.median((np.abs(np.subtract(y_test_unscaled, y_pred)/ y_test_unscaled))) * 100\n",
    "print('Median Absolute Percentage Error (MDAPE): ' + str(np.round(MDAPE, 2)) + ' %')\n",
    "\n",
    "print('\\n\\ny_test_unscaled.shape= ',y_test_unscaled.shape)\n",
    "print('y_pred.shape= ',y_pred.shape)"
   ]
  },
  {
   "cell_type": "code",
   "execution_count": 21,
   "metadata": {},
   "outputs": [],
   "source": [
    "checkpoints = r'C:\\Users\\Administrator\\Downloads\\ML Lab\\checkpoint\\ML Lab\\lab9\\E2-cp-{epoch:04d}-loss{val_loss:.2f}.h5'\n",
    "model=r'C:\\Users\\Administrator\\Downloads\\ML Lab\\checkpoint\\ML Lab\\lab9\\E1-cp-0053-loss0.01.h5'\n",
    "start_epoch= 54"
   ]
  },
  {
   "cell_type": "code",
   "execution_count": 22,
   "metadata": {},
   "outputs": [
    {
     "name": "stdout",
     "output_type": "stream",
     "text": [
      "[INFO] loading C:\\Users\\Administrator\\Downloads\\ML Lab\\checkpoint\\ML Lab\\lab9\\E1-cp-0053-loss0.01.h5...\n",
      "[INFO] old learning rate: 0.0010000000474974513\n",
      "[INFO] new learning rate: 9.999999747378752e-05\n"
     ]
    }
   ],
   "source": [
    "# construct the callback to save only the *best* model to disk\n",
    "# based on the validation loss\n",
    "EpochCheckpoint1 = ModelCheckpoint(checkpoints,\n",
    "                             monitor=\"val_loss\",\n",
    "                             save_best_only=True, \n",
    "                             verbose=1)\n",
    "TrainingMonitor1=TrainingMonitor(FIG_PATH, jsonPath=JSON_PATH, startAt=start_epoch)\n",
    "\n",
    "# construct the set of callbacks\n",
    "callbacks = [EpochCheckpoint1,TrainingMonitor1]\n",
    "# if there is no specific model checkpoint supplied, then initialize\n",
    "# the network and compile the model\n",
    "if model is None:\n",
    "    print(\"[INFO] compiling model...\")\n",
    "    model = PC.build(time_steps=24, num_features=21, reg=0.0005)\n",
    "    opt = Adam(1e-3)\n",
    "    model.compile(loss= 'mae', optimizer=opt, metrics=[\"mae\", \"mape\"])\n",
    "# otherwise, load the checkpoint from disk\n",
    "else:\n",
    "    print(\"[INFO] loading {}...\".format(model))\n",
    "    model = load_model(model)\n",
    "\n",
    "    # update the learning rate\n",
    "    print(\"[INFO] old learning rate: {}\".format(K.get_value(model.optimizer.lr)))\n",
    "    K.set_value(model.optimizer.lr, 1e-4)\n",
    "    print(\"[INFO] new learning rate: {}\".format(K.get_value(model.optimizer.lr)))"
   ]
  },
  {
   "cell_type": "code",
   "execution_count": null,
   "metadata": {},
   "outputs": [
    {
     "name": "stdout",
     "output_type": "stream",
     "text": [
      "Epoch 1/10\n",
      "2648/2653 [============================>.] - ETA: 0s - loss: 0.0064 - mae: 0.0064 - mape: 8.6717\n",
      "Epoch 1: val_loss improved from inf to 0.00682, saving model to C:\\Users\\Administrator\\Downloads\\ML Lab\\checkpoint\\ML Lab\\lab9\\E2-cp-0001-loss0.01.h5\n",
      "2653/2653 [==============================] - 31s 11ms/step - loss: 0.0064 - mae: 0.0064 - mape: 8.6602 - val_loss: 0.0068 - val_mae: 0.0068 - val_mape: 3.0920\n",
      "Epoch 2/10\n",
      "2651/2653 [============================>.] - ETA: 0s - loss: 0.0064 - mae: 0.0064 - mape: 2.4142\n",
      "Epoch 2: val_loss improved from 0.00682 to 0.00649, saving model to C:\\Users\\Administrator\\Downloads\\ML Lab\\checkpoint\\ML Lab\\lab9\\E2-cp-0002-loss0.01.h5\n",
      "2653/2653 [==============================] - 34s 13ms/step - loss: 0.0064 - mae: 0.0064 - mape: 2.4140 - val_loss: 0.0065 - val_mae: 0.0065 - val_mape: 2.8914\n",
      "Epoch 3/10\n",
      "2653/2653 [==============================] - ETA: 0s - loss: 0.0064 - mae: 0.0064 - mape: 8.4092\n",
      "Epoch 3: val_loss did not improve from 0.00649\n",
      "2653/2653 [==============================] - 32s 12ms/step - loss: 0.0064 - mae: 0.0064 - mape: 8.4092 - val_loss: 0.0067 - val_mae: 0.0067 - val_mape: 2.9631\n",
      "Epoch 4/10\n",
      "2650/2653 [============================>.] - ETA: 0s - loss: 0.0064 - mae: 0.0064 - mape: 21.1090\n",
      "Epoch 4: val_loss did not improve from 0.00649\n",
      "2653/2653 [==============================] - 34s 13ms/step - loss: 0.0064 - mae: 0.0064 - mape: 21.0905 - val_loss: 0.0065 - val_mae: 0.0065 - val_mape: 2.8512\n",
      "Epoch 5/10\n",
      "2652/2653 [============================>.] - ETA: 0s - loss: 0.0064 - mae: 0.0064 - mape: 12.1730\n",
      "Epoch 5: val_loss did not improve from 0.00649\n",
      "2653/2653 [==============================] - 32s 12ms/step - loss: 0.0064 - mae: 0.0064 - mape: 12.1707 - val_loss: 0.0067 - val_mae: 0.0067 - val_mape: 3.0117\n",
      "Epoch 6/10\n",
      "2652/2653 [============================>.] - ETA: 0s - loss: 0.0064 - mae: 0.0064 - mape: 32.7257\n",
      "Epoch 6: val_loss did not improve from 0.00649\n",
      "2653/2653 [==============================] - 32s 12ms/step - loss: 0.0064 - mae: 0.0064 - mape: 32.7189 - val_loss: 0.0066 - val_mae: 0.0066 - val_mape: 2.8421\n",
      "Epoch 7/10\n",
      "2652/2653 [============================>.] - ETA: 0s - loss: 0.0063 - mae: 0.0063 - mape: 21.1736\n",
      "Epoch 7: val_loss did not improve from 0.00649\n",
      "2653/2653 [==============================] - 31s 12ms/step - loss: 0.0063 - mae: 0.0063 - mape: 21.1695 - val_loss: 0.0066 - val_mae: 0.0066 - val_mape: 2.9155\n",
      "Epoch 8/10\n",
      "2649/2653 [============================>.] - ETA: 0s - loss: 0.0063 - mae: 0.0063 - mape: 23.0308\n",
      "Epoch 8: val_loss did not improve from 0.00649\n",
      "2653/2653 [==============================] - 31s 12ms/step - loss: 0.0063 - mae: 0.0063 - mape: 23.0021 - val_loss: 0.0067 - val_mae: 0.0067 - val_mape: 2.9293\n",
      "Epoch 9/10\n",
      "2221/2653 [========================>.....] - ETA: 4s - loss: 0.0063 - mae: 0.0063 - mape: 4.1270"
     ]
    }
   ],
   "source": [
    "epochs = 10\n",
    "verbose = 1 #0\n",
    "batch_size = 32\n",
    "History = model.fit(train_X,\n",
    "                        train_y,\n",
    "                        batch_size=batch_size,   \n",
    "                        epochs = epochs, \n",
    "                        validation_data = (validation_X,validation_y),\n",
    "                        callbacks=callbacks,\n",
    "                        verbose = verbose)"
   ]
  },
  {
   "cell_type": "code",
   "execution_count": 19,
   "metadata": {},
   "outputs": [
    {
     "name": "stdout",
     "output_type": "stream",
     "text": [
      "379/379 [==============================] - 1s 1ms/step\n",
      "Mean Absolute Error (MAE): 144.75\n",
      "Median Absolute Error (MedAE): 113.65\n",
      "Mean Squared Error (MSE): 36189.68\n",
      "Root Mean Squared Error (RMSE): 190.24\n",
      "Mean Absolute Percentage Error (MAPE): 0.98 %\n",
      "Median Absolute Percentage Error (MDAPE): 0.79 %\n",
      "\n",
      "\n",
      "y_test_unscaled.shape=  (12105, 1)\n",
      "y_pred.shape=  (12105, 1)\n"
     ]
    }
   ],
   "source": [
    "\n",
    "model = load_model(r'C:\\Users\\Administrator\\Downloads\\ML Lab\\checkpoint\\ML Lab\\lab9\\E2-cp-0006-loss0.01.h5')\n",
    "\n",
    "y_pred_scaled   = model.predict(test_X)\n",
    "y_pred          = scaler.inverse_transform(y_pred_scaled)\n",
    "y_test_unscaled = scaler.inverse_transform(test_y)\n",
    "# Mean Absolute Error (MAE)\n",
    "MAE = np.mean(abs(y_pred - y_test_unscaled)) \n",
    "print('Mean Absolute Error (MAE): ' + str(np.round(MAE, 2)))\n",
    "\n",
    "# Median Absolute Error (MedAE)\n",
    "MEDAE = np.median(abs(y_pred - y_test_unscaled))\n",
    "print('Median Absolute Error (MedAE): ' + str(np.round(MEDAE, 2)))\n",
    "\n",
    "# Mean Squared Error (MSE)\n",
    "MSE = np.square(np.subtract(y_pred, y_test_unscaled)).mean()\n",
    "print('Mean Squared Error (MSE): ' + str(np.round(MSE, 2)))\n",
    "\n",
    "# Root Mean Squarred Error (RMSE) \n",
    "RMSE = np.sqrt(np.mean(np.square(y_pred - y_test_unscaled)))\n",
    "print('Root Mean Squared Error (RMSE): ' + str(np.round(RMSE, 2)))\n",
    "\n",
    "# Mean Absolute Percentage Error (MAPE)\n",
    "MAPE = np.mean((np.abs(np.subtract(y_test_unscaled, y_pred)/ y_test_unscaled))) * 100\n",
    "print('Mean Absolute Percentage Error (MAPE): ' + str(np.round(MAPE, 2)) + ' %')\n",
    "\n",
    "# Median Absolute Percentage Error (MDAPE)\n",
    "MDAPE = np.median((np.abs(np.subtract(y_test_unscaled, y_pred)/ y_test_unscaled))) * 100\n",
    "print('Median Absolute Percentage Error (MDAPE): ' + str(np.round(MDAPE, 2)) + ' %')\n",
    "\n",
    "print('\\n\\ny_test_unscaled.shape= ',y_test_unscaled.shape)\n",
    "print('y_pred.shape= ',y_pred.shape)"
   ]
  },
  {
   "cell_type": "code",
   "execution_count": null,
   "metadata": {},
   "outputs": [],
   "source": []
  }
 ],
 "metadata": {
  "kernelspec": {
   "display_name": "Python 3 (ipykernel)",
   "language": "python",
   "name": "python3"
  },
  "language_info": {
   "codemirror_mode": {
    "name": "ipython",
    "version": 3
   },
   "file_extension": ".py",
   "mimetype": "text/x-python",
   "name": "python",
   "nbconvert_exporter": "python",
   "pygments_lexer": "ipython3",
   "version": "3.9.15"
  }
 },
 "nbformat": 4,
 "nbformat_minor": 4
}
